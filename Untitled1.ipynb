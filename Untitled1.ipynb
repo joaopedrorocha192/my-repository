{
  "nbformat": 4,
  "nbformat_minor": 0,
  "metadata": {
    "colab": {
      "provenance": [],
      "toc_visible": true
    },
    "kernelspec": {
      "name": "python3",
      "display_name": "Python 3"
    },
    "language_info": {
      "name": "python"
    }
  },
  "cells": [
    {
      "cell_type": "code",
      "execution_count": 10,
      "metadata": {
        "id": "UGhYds-rY7qv",
        "colab": {
          "base_uri": "https://localhost:8080/"
        },
        "outputId": "57072d2f-bcf5-449e-8c70-9d900b9f1330"
      },
      "outputs": [
        {
          "output_type": "stream",
          "name": "stdout",
          "text": [
            "Requirement already satisfied: google-generativeai in /usr/local/lib/python3.12/dist-packages (0.8.5)\n",
            "Requirement already satisfied: google-ai-generativelanguage==0.6.15 in /usr/local/lib/python3.12/dist-packages (from google-generativeai) (0.6.15)\n",
            "Requirement already satisfied: google-api-core in /usr/local/lib/python3.12/dist-packages (from google-generativeai) (2.25.1)\n",
            "Requirement already satisfied: google-api-python-client in /usr/local/lib/python3.12/dist-packages (from google-generativeai) (2.181.0)\n",
            "Requirement already satisfied: google-auth>=2.15.0 in /usr/local/lib/python3.12/dist-packages (from google-generativeai) (2.38.0)\n",
            "Requirement already satisfied: protobuf in /usr/local/lib/python3.12/dist-packages (from google-generativeai) (5.29.5)\n",
            "Requirement already satisfied: pydantic in /usr/local/lib/python3.12/dist-packages (from google-generativeai) (2.11.7)\n",
            "Requirement already satisfied: tqdm in /usr/local/lib/python3.12/dist-packages (from google-generativeai) (4.67.1)\n",
            "Requirement already satisfied: typing-extensions in /usr/local/lib/python3.12/dist-packages (from google-generativeai) (4.15.0)\n",
            "Requirement already satisfied: proto-plus<2.0.0dev,>=1.22.3 in /usr/local/lib/python3.12/dist-packages (from google-ai-generativelanguage==0.6.15->google-generativeai) (1.26.1)\n",
            "Requirement already satisfied: googleapis-common-protos<2.0.0,>=1.56.2 in /usr/local/lib/python3.12/dist-packages (from google-api-core->google-generativeai) (1.70.0)\n",
            "Requirement already satisfied: requests<3.0.0,>=2.18.0 in /usr/local/lib/python3.12/dist-packages (from google-api-core->google-generativeai) (2.32.4)\n",
            "Requirement already satisfied: cachetools<6.0,>=2.0.0 in /usr/local/lib/python3.12/dist-packages (from google-auth>=2.15.0->google-generativeai) (5.5.2)\n",
            "Requirement already satisfied: pyasn1-modules>=0.2.1 in /usr/local/lib/python3.12/dist-packages (from google-auth>=2.15.0->google-generativeai) (0.4.2)\n",
            "Requirement already satisfied: rsa<5,>=3.1.4 in /usr/local/lib/python3.12/dist-packages (from google-auth>=2.15.0->google-generativeai) (4.9.1)\n",
            "Requirement already satisfied: httplib2<1.0.0,>=0.19.0 in /usr/local/lib/python3.12/dist-packages (from google-api-python-client->google-generativeai) (0.30.0)\n",
            "Requirement already satisfied: google-auth-httplib2<1.0.0,>=0.2.0 in /usr/local/lib/python3.12/dist-packages (from google-api-python-client->google-generativeai) (0.2.0)\n",
            "Requirement already satisfied: uritemplate<5,>=3.0.1 in /usr/local/lib/python3.12/dist-packages (from google-api-python-client->google-generativeai) (4.2.0)\n",
            "Requirement already satisfied: annotated-types>=0.6.0 in /usr/local/lib/python3.12/dist-packages (from pydantic->google-generativeai) (0.7.0)\n",
            "Requirement already satisfied: pydantic-core==2.33.2 in /usr/local/lib/python3.12/dist-packages (from pydantic->google-generativeai) (2.33.2)\n",
            "Requirement already satisfied: typing-inspection>=0.4.0 in /usr/local/lib/python3.12/dist-packages (from pydantic->google-generativeai) (0.4.1)\n",
            "Requirement already satisfied: grpcio<2.0.0,>=1.33.2 in /usr/local/lib/python3.12/dist-packages (from google-api-core[grpc]!=2.0.*,!=2.1.*,!=2.10.*,!=2.2.*,!=2.3.*,!=2.4.*,!=2.5.*,!=2.6.*,!=2.7.*,!=2.8.*,!=2.9.*,<3.0.0dev,>=1.34.1->google-ai-generativelanguage==0.6.15->google-generativeai) (1.74.0)\n",
            "Requirement already satisfied: grpcio-status<2.0.0,>=1.33.2 in /usr/local/lib/python3.12/dist-packages (from google-api-core[grpc]!=2.0.*,!=2.1.*,!=2.10.*,!=2.2.*,!=2.3.*,!=2.4.*,!=2.5.*,!=2.6.*,!=2.7.*,!=2.8.*,!=2.9.*,<3.0.0dev,>=1.34.1->google-ai-generativelanguage==0.6.15->google-generativeai) (1.71.2)\n",
            "Requirement already satisfied: pyparsing<4,>=3.0.4 in /usr/local/lib/python3.12/dist-packages (from httplib2<1.0.0,>=0.19.0->google-api-python-client->google-generativeai) (3.2.3)\n",
            "Requirement already satisfied: pyasn1<0.7.0,>=0.6.1 in /usr/local/lib/python3.12/dist-packages (from pyasn1-modules>=0.2.1->google-auth>=2.15.0->google-generativeai) (0.6.1)\n",
            "Requirement already satisfied: charset_normalizer<4,>=2 in /usr/local/lib/python3.12/dist-packages (from requests<3.0.0,>=2.18.0->google-api-core->google-generativeai) (3.4.3)\n",
            "Requirement already satisfied: idna<4,>=2.5 in /usr/local/lib/python3.12/dist-packages (from requests<3.0.0,>=2.18.0->google-api-core->google-generativeai) (3.10)\n",
            "Requirement already satisfied: urllib3<3,>=1.21.1 in /usr/local/lib/python3.12/dist-packages (from requests<3.0.0,>=2.18.0->google-api-core->google-generativeai) (2.5.0)\n",
            "Requirement already satisfied: certifi>=2017.4.17 in /usr/local/lib/python3.12/dist-packages (from requests<3.0.0,>=2.18.0->google-api-core->google-generativeai) (2025.8.3)\n"
          ]
        }
      ],
      "source": [
        "!pip install google-generativeai\n",
        "import google.generativeai as genai\n",
        "\n",
        "\n",
        "\n",
        "\n"
      ]
    },
    {
      "cell_type": "code",
      "source": [
        "from google.colab import userdata\n",
        "\n",
        "GOOGLE_GEMINI_API_KEY = userdata.get('GOOGLE_GEMINI_API_KEY')\n",
        "\n",
        "genai.configure(api_key=GOOGLE_GEMINI_API_KEY)\n"
      ],
      "metadata": {
        "id": "-Mtf8yN3a9zs"
      },
      "execution_count": 9,
      "outputs": []
    },
    {
      "cell_type": "code",
      "source": [
        "lista = input(\"Digite a lista de palavras: \")"
      ],
      "metadata": {
        "colab": {
          "base_uri": "https://localhost:8080/"
        },
        "id": "sW-_XRSCbNgI",
        "outputId": "5937cb89-6b72-4bda-da10-8b3b3a8b8873"
      },
      "execution_count": 14,
      "outputs": [
        {
          "name": "stdout",
          "output_type": "stream",
          "text": [
            "Digite a lista de palavras: unexpected, found out, refused, papers, relented, promised, naively, chose, spent, tuition, working-class\n"
          ]
        }
      ]
    },
    {
      "cell_type": "code",
      "source": [
        "model = genai.GenerativeModel('gemini-2.5-flash')"
      ],
      "metadata": {
        "id": "5S3Ckf_kbHSb"
      },
      "execution_count": 11,
      "outputs": []
    },
    {
      "cell_type": "code",
      "source": [
        "prompt = f\"Lista: {lista}\\n\\n\"\n",
        "prompt += \"Quero que voce pegue cada palavra ou expresssão, o qual estão separados por virgula, e me dê o significado em portugues e alguns exemplos de frases\""
      ],
      "metadata": {
        "id": "4eV4XMhVbddz"
      },
      "execution_count": 15,
      "outputs": []
    },
    {
      "cell_type": "code",
      "source": [
        "chat = model.start_chat(history=[])\n",
        "\n",
        "response = chat.send_message(prompt)\n",
        "print(response.text)"
      ],
      "metadata": {
        "colab": {
          "base_uri": "https://localhost:8080/",
          "height": 1000
        },
        "id": "MsqBKiP4cu50",
        "outputId": "001a4dd2-538d-41ee-c4d4-c5e07fc711c3"
      },
      "execution_count": 16,
      "outputs": [
        {
          "output_type": "stream",
          "name": "stdout",
          "text": [
            "Com certeza! Vamos analisar cada palavra e expressão, dando o significado em português e alguns exemplos de frases para cada uma.\n",
            "\n",
            "---\n",
            "\n",
            "1.  **Unexpected**\n",
            "    *   **Significado (Português):** Inesperado, imprevisto.\n",
            "    *   **Exemplos de frases:**\n",
            "        *   The news of her promotion was completely **unexpected**. (A notícia da promoção dela foi completamente **inesperada**.)\n",
            "        *   We had an **unexpected** visitor this morning. (Tivemos uma visita **inesperada** esta manhã.)\n",
            "        *   The sudden rain was an **unexpected** challenge for the picnic. (A chuva repentina foi um desafio **inesperado** para o piquenique.)\n",
            "\n",
            "2.  **Found out**\n",
            "    *   **Significado (Português):** Descobriu, ficou sabendo (passado do phrasal verb \"to find out\").\n",
            "    *   **Exemplos de frases:**\n",
            "        *   She finally **found out** the truth about the missing documents. (Ela finalmente **descobriu** a verdade sobre os documentos perdidos.)\n",
            "        *   I **found out** that the store closes early on Sundays. (Eu **descobri** que a loja fecha cedo aos domingos.)\n",
            "        *   He **found out** his brother had borrowed his car without asking. (Ele **descobriu** que o irmão dele tinha pego o carro sem pedir.)\n",
            "\n",
            "3.  **Refused**\n",
            "    *   **Significado (Português):** Recusou, negou (passado do verbo \"to refuse\").\n",
            "    *   **Exemplos de frases:**\n",
            "        *   He **refused** the job offer because it was too far from home. (Ele **recusou** a oferta de emprego porque era muito longe de casa.)\n",
            "        *   The bank **refused** their loan application. (O banco **recusou** o pedido de empréstimo deles.)\n",
            "        *   She **refused** to apologize, even though she knew she was wrong. (Ela se **recusou** a pedir desculpas, mesmo sabendo que estava errada.)\n",
            "\n",
            "4.  **Papers**\n",
            "    *   **Significado (Português):** Papéis, documentos, jornais, artigos/trabalhos (acadêmicos).\n",
            "    *   **Exemplos de frases:**\n",
            "        *   Please organize all these important **papers** into folders. (Por favor, organize todos esses **papéis** importantes em pastas.)\n",
            "        *   Did you read the **papers** this morning? (Você leu os **jornais** esta manhã?)\n",
            "        *   She presented her research **papers** at the conference. (Ela apresentou seus **trabalhos** de pesquisa na conferência.)\n",
            "        *   I need to get my immigration **papers** in order. (Preciso organizar meus **documentos** de imigração.)\n",
            "\n",
            "5.  **Relented**\n",
            "    *   **Significado (Português):** Cedeu, se rendeu, amoleceu, diminuiu (a pressão, a intensidade) (passado do verbo \"to relent\").\n",
            "    *   **Exemplos de frases:**\n",
            "        *   After hours of pleading, his parents finally **relented** and let him go to the party. (Depois de horas de súplica, seus pais finalmente **cederam** e o deixaram ir à festa.)\n",
            "        *   The storm **relented** in the early hours of the morning. (A tempestade **diminuiu** nas primeiras horas da manhã.)\n",
            "        *   The government **relented** to public pressure and changed the policy. (O governo **cedeu** à pressão pública e mudou a política.)\n",
            "\n",
            "6.  **Promised**\n",
            "    *   **Significado (Português):** Prometeu (passado do verbo \"to promise\").\n",
            "    *   **Exemplos de frases:**\n",
            "        *   He **promised** to call her every day while he was away. (Ele **prometeu** ligar para ela todos os dias enquanto estivesse fora.)\n",
            "        *   The company **promised** a bonus to all employees if they met their targets. (A empresa **prometeu** um bônus a todos os funcionários se eles atingissem suas metas.)\n",
            "        *   She **promised** her kids a trip to the beach for their good behavior. (Ela **prometeu** aos filhos uma viagem à praia pelo bom comportamento deles.)\n",
            "\n",
            "7.  **Naively**\n",
            "    *   **Significado (Português):** Ingenuamente, de forma ingênua.\n",
            "    *   **Exemplos de frases:**\n",
            "        *   He **naively** believed everything the salesman told him. (Ele **ingenuamente** acreditou em tudo que o vendedor lhe disse.)\n",
            "        *   She **naively** thought that hard work alone would guarantee success. (Ela **ingenuamente** pensou que apenas o trabalho duro garantiria o sucesso.)\n",
            "        *   I **naively** trusted him with my secrets, and he betrayed me. (Eu **ingenuamente** confiei meus segredos a ele, e ele me traiu.)\n",
            "\n",
            "8.  **Chose**\n",
            "    *   **Significado (Português):** Escolheu (passado do verbo \"to choose\").\n",
            "    *   **Exemplos de frases:**\n",
            "        *   She **chose** the red dress for the party. (Ela **escolheu** o vestido vermelho para a festa.)\n",
            "        *   They **chose** to live in the countryside instead of the city. (Eles **escolheram** viver no campo em vez da cidade.)\n",
            "        *   I **chose** the chocolate ice cream, as always. (Eu **escolhi** o sorvete de chocolate, como sempre.)\n",
            "\n",
            "9.  **Spent**\n",
            "    *   **Significado (Português):** Gastou (dinheiro), Passou (tempo) (passado do verbo \"to spend\").\n",
            "    *   **Exemplos de frases:**\n",
            "        *   He **spent** all his savings on a new car. (Ele **gastou** todas as suas economias em um carro novo.)\n",
            "        *   We **spent** the whole afternoon at the beach. (Nós **passamos** a tarde inteira na praia.)\n",
            "        *   She **spent** a lot of effort preparing for the exam. (Ela **dedicou** muito esforço na preparação para o exame.)\n",
            "\n",
            "10. **Tuition**\n",
            "    *   **Significado (Português):** Mensalidade (escolar/universitária), anuidade, taxa de ensino.\n",
            "    *   **Exemplos de frases:**\n",
            "        *   University **tuition** fees have increased significantly. (As **mensalidades** universitárias aumentaram significativamente.)\n",
            "        *   She works two jobs to pay for her **tuition**. (Ela trabalha em dois empregos para pagar sua **mensalidade**.)\n",
            "        *   He received a scholarship that covers his full **tuition**. (Ele recebeu uma bolsa de estudos que cobre sua **mensalidade** integral.)\n",
            "\n",
            "11. **Working-class**\n",
            "    *   **Significado (Português):** Classe trabalhadora, operário(a) (pode ser usado como adjetivo ou substantivo para se referir a pessoas da classe trabalhadora).\n",
            "    *   **Exemplos de frases:**\n",
            "        *   He came from a **working-class** family and valued hard work. (Ele veio de uma família da **classe trabalhadora** e valorizava o trabalho duro.)\n",
            "        *   The area was historically a **working-class** neighborhood. (A área era historicamente um bairro de **classe trabalhadora**.)\n",
            "        *   Many of his characters represented the struggles of the **working-class**. (Muitos de seus personagens representavam as lutas da **classe trabalhadora**.)\n",
            "\n",
            "---\n"
          ]
        }
      ]
    }
  ]
}